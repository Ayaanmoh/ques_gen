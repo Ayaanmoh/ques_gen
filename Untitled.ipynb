{
 "cells": [
  {
   "cell_type": "code",
   "execution_count": 1,
   "metadata": {},
   "outputs": [],
   "source": [
    "import dataset"
   ]
  },
  {
   "cell_type": "code",
   "execution_count": 14,
   "metadata": {},
   "outputs": [
    {
     "name": "stderr",
     "output_type": "stream",
     "text": [
      "WARNING:torchtext.data.iterator:The `device` argument should be set by using `torch.device` or passing a string as an argument. This behavior will be deprecated soon and currently defaults to cpu.\n",
      "WARNING:torchtext.data.iterator:The `device` argument should be set by using `torch.device` or passing a string as an argument. This behavior will be deprecated soon and currently defaults to cpu.\n",
      "WARNING:torchtext.data.iterator:The `device` argument should be set by using `torch.device` or passing a string as an argument. This behavior will be deprecated soon and currently defaults to cpu.\n"
     ]
    }
   ],
   "source": [
    "a=dataset.load_dataset(5)"
   ]
  },
  {
   "cell_type": "code",
   "execution_count": 13,
   "metadata": {},
   "outputs": [
    {
     "name": "stdout",
     "output_type": "stream",
     "text": [
      "tensor([[   2,    2,    2,    2,    2],\n",
      "        [   5,    5,   14,   14,  126],\n",
      "        [ 102,   27,   38,   38,   68],\n",
      "        [  12,  349,   24,  102,   10],\n",
      "        [  10,   15, 2401,   31,   26],\n",
      "        [ 194,  212,   32,    7,   51],\n",
      "        [  70,    4,   22,  251, 1916],\n",
      "        [  18,    3,  787,  101,  122],\n",
      "        [8309,    1,  884,   61,  219],\n",
      "        [   4,    1,   16,   23,   22],\n",
      "        [   3,    1,   12,    6,  125],\n",
      "        [   1,    1,    7, 6933,   20],\n",
      "        [   1,    1,   16,  119, 2312],\n",
      "        [   1,    1,  442,    4,  121],\n",
      "        [   1,    1,   32,    3,    4],\n",
      "        [   1,    1,   11,    1,    3],\n",
      "        [   1,    1,   26,    1,    1],\n",
      "        [   1,    1,  124,    1,    1],\n",
      "        [   1,    1,    8,    1,    1],\n",
      "        [   1,    1,  103,    1,    1],\n",
      "        [   1,    1,  179,    1,    1],\n",
      "        [   1,    1,   30,    1,    1],\n",
      "        [   1,    1, 3014,    1,    1],\n",
      "        [   1,    1,   15,    1,    1],\n",
      "        [   1,    1, 1045,    1,    1],\n",
      "        [   1,    1,    4,    1,    1],\n",
      "        [   1,    1,    3,    1,    1]])\n",
      "tensor([[   2,    2,    2,    2,    2],\n",
      "        [   6,    6,    6,    6,   49],\n",
      "        [  25,   25,   39,   39,   72],\n",
      "        [  12,   33,   13,   13,   14],\n",
      "        [   7,  330, 1030,   25,    8],\n",
      "        [ 218,    4,   32,   36,   31],\n",
      "        [ 168,  139,    7,   76,  171],\n",
      "        [   4,    5,    4,    7,   43],\n",
      "        [ 685,    3,  902,   31, 1201],\n",
      "        [  67,    1,  866,  156,   23],\n",
      "        [  27,    1,    8,  236,   10],\n",
      "        [1664,    1,   12,    4,  232],\n",
      "        [   5,    1,    7, 2450,    4],\n",
      "        [   3,    1,    8,  299,  169],\n",
      "        [   1,    1,  181,    5,    7],\n",
      "        [   1,    1,   10,    3,    8],\n",
      "        [   1,    1,   32,    1,  100],\n",
      "        [   1,    1,    9,    1,    5],\n",
      "        [   1,    1,    8,    1,    3],\n",
      "        [   1,    1,  262,    1,    1],\n",
      "        [   1,    1,   11,    1,    1],\n",
      "        [   1,    1,  601,    1,    1],\n",
      "        [   1,    1,   10,    1,    1],\n",
      "        [   1,    1,    4,    1,    1],\n",
      "        [   1,    1, 1428,    1,    1],\n",
      "        [   1,    1,   37,    1,    1],\n",
      "        [   1,    1,   50,    1,    1],\n",
      "        [   1,    1,   98,    1,    1],\n",
      "        [   1,    1,  146,    1,    1],\n",
      "        [   1,    1,    5,    1,    1],\n",
      "        [   1,    1,    3,    1,    1]])\n",
      "<torchtext.datasets.translation.Multi30k object at 0x7f15bef02c10>\n",
      "['batch_size', 'dataset', 'fields', 'input_fields', 'target_fields', 'src', 'trg', '__module__', '__doc__', '__init__', 'fromvars', '__repr__', '__str__', '__len__', '_get_field_values', '__iter__', '__dict__', '__weakref__', '__hash__', '__getattribute__', '__setattr__', '__delattr__', '__lt__', '__le__', '__eq__', '__ne__', '__gt__', '__ge__', '__new__', '__reduce_ex__', '__reduce__', '__subclasshook__', '__init_subclass__', '__format__', '__sizeof__', '__dir__', '__class__']\n"
     ]
    }
   ],
   "source": [
    "for i in a:\n",
    "    for j in i:\n",
    "        print(j.src)\n",
    "        print(j.trg)\n",
    "        print(j.dataset)\n",
    "        print(j.__dir__())\n",
    "        break\n",
    "    break"
   ]
  },
  {
   "cell_type": "code",
   "execution_count": null,
   "metadata": {},
   "outputs": [],
   "source": []
  }
 ],
 "metadata": {
  "kernelspec": {
   "display_name": "Python 3",
   "language": "python",
   "name": "python3"
  },
  "language_info": {
   "codemirror_mode": {
    "name": "ipython",
    "version": 3
   },
   "file_extension": ".py",
   "mimetype": "text/x-python",
   "name": "python",
   "nbconvert_exporter": "python",
   "pygments_lexer": "ipython3",
   "version": "3.7.4"
  }
 },
 "nbformat": 4,
 "nbformat_minor": 4
}
